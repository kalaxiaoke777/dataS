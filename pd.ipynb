{
 "cells": [
  {
   "cell_type": "code",
   "id": "initial_id",
   "metadata": {
    "collapsed": true,
    "ExecuteTime": {
     "end_time": "2025-01-29T08:01:21.807281Z",
     "start_time": "2025-01-29T08:01:21.798464Z"
    }
   },
   "source": [
    "import pandas as pd\n",
    "\n",
    "# 创建两个Series对象\n",
    "series_apples = pd.Series([1, 3, 7, 4])\n",
    "series_bananas = pd.Series([2, 6, 3, 5])\n",
    "\n",
    "# 将两个Series对象相加，得到DataFrame，并指定列名\n",
    "df = pd.DataFrame({ 'Apples': series_apples, 'Bananas': series_bananas })\n",
    "\n",
    "# 显示DataFrame\n",
    "print(series_apples[0])\n",
    "print(series_bananas)\n",
    "print(df)\n"
   ],
   "outputs": [
    {
     "name": "stdout",
     "output_type": "stream",
     "text": [
      "1\n",
      "0    2\n",
      "1    6\n",
      "2    3\n",
      "3    5\n",
      "dtype: int64\n",
      "   Apples  Bananas\n",
      "0       1        2\n",
      "1       3        6\n",
      "2       7        3\n",
      "3       4        5\n"
     ]
    }
   ],
   "execution_count": 8
  },
  {
   "metadata": {
    "ExecuteTime": {
     "end_time": "2025-01-29T08:10:10.880842Z",
     "start_time": "2025-01-29T08:10:10.876920Z"
    }
   },
   "cell_type": "code",
   "source": [
    "import pandas as pd\n",
    "\n",
    "sites = {1: \"Google\", 2: \"Runoob\", 3: \"Wiki\"}\n",
    "\n",
    "myvar = pd.Series(sites)\n",
    "\n",
    "print(myvar)"
   ],
   "id": "93bbf79e8cb1cf29",
   "outputs": [
    {
     "name": "stdout",
     "output_type": "stream",
     "text": [
      "1    Google\n",
      "2    Runoob\n",
      "3      Wiki\n",
      "dtype: object\n"
     ]
    }
   ],
   "execution_count": 10
  },
  {
   "metadata": {
    "ExecuteTime": {
     "end_time": "2025-01-29T08:32:55.840499Z",
     "start_time": "2025-01-29T08:32:55.828364Z"
    }
   },
   "cell_type": "code",
   "source": [
    "import pandas as pd\n",
    "\n",
    "data = [{'a': 1, 'b': 2},{'a': 5, 'b': 10, 'c': 20},{'c':1,'a':12}]\n",
    "new_df = pd.DataFrame([{'a': 5, 'b': 10, 'c': 20}])\n",
    "df = pd.DataFrame(data)\n",
    "df['sdf'] = [1,2,3]\n",
    "\n",
    "new2 = pd.concat([df, new_df])\n",
    "print(new2)"
   ],
   "id": "a582a7b08b8183be",
   "outputs": [
    {
     "name": "stdout",
     "output_type": "stream",
     "text": [
      "    a     b     c  sdf\n",
      "0   1   2.0   NaN  1.0\n",
      "1   5  10.0  20.0  2.0\n",
      "2  12   NaN   1.0  3.0\n",
      "0   5  10.0  20.0  NaN\n"
     ]
    }
   ],
   "execution_count": 34
  },
  {
   "metadata": {
    "ExecuteTime": {
     "end_time": "2025-01-29T08:47:36.460434Z",
     "start_time": "2025-01-29T08:47:36.451040Z"
    }
   },
   "cell_type": "code",
   "source": [
    "import pandas as pd\n",
    "\n",
    "csv = pd.read_excel(\"test.xlsx\")\n",
    "print(csv)\n",
    "# print(csv.head(0))"
   ],
   "id": "199cbbd54385230b",
   "outputs": [
    {
     "name": "stdout",
     "output_type": "stream",
     "text": [
      "   Unnamed: 0   a   b   c   d\n",
      "0           2   1   2   3   4\n",
      "1           1  13  24  35  22\n"
     ]
    }
   ],
   "execution_count": 57
  },
  {
   "metadata": {
    "ExecuteTime": {
     "end_time": "2025-01-29T09:12:00.529979Z",
     "start_time": "2025-01-29T09:12:00.517806Z"
    }
   },
   "cell_type": "code",
   "source": [
    "import pandas as pd\n",
    "\n",
    "df1 = pd.DataFrame([[\"AAA\", \"BBB\"]], columns=[\"Spam\", \"Egg\"])\n",
    "df2 = pd.DataFrame([[\"ABC\", \"XYZ\"]], columns=[\"Foo\", \"Bar\"])\n",
    "with pd.ExcelWriter(\"path_to_file.xlsx\") as writer:\n",
    "    df1.to_excel(writer, sheet_name=\"Sheet1\")\n",
    "    df2.to_excel(writer, sheet_name=\"Sheet2\")"
   ],
   "id": "db9237ee065b9e97",
   "outputs": [],
   "execution_count": 59
  },
  {
   "metadata": {
    "ExecuteTime": {
     "end_time": "2025-01-29T09:31:07.454051Z",
     "start_time": "2025-01-29T09:31:07.442962Z"
    }
   },
   "cell_type": "code",
   "source": [
    "import pandas as pd\n",
    "\n",
    "df = pd.read_csv('property-data.csv')\n",
    "\n",
    "df.dropna(subset=['ST_NUM'], inplace = True)\n",
    "\n",
    "print(df.to_string())"
   ],
   "id": "f9b794c7c3f43453",
   "outputs": [
    {
     "name": "stdout",
     "output_type": "stream",
     "text": [
      "           PID  ST_NUM    ST_NAME OWN_OCCUPIED NUM_BEDROOMS NUM_BATH SQ_FT\n",
      "0  100001000.0   104.0     PUTNAM            Y            3        1  1000\n",
      "1  100002000.0   197.0  LEXINGTON            N            3      1.5    --\n",
      "3  100004000.0   201.0   BERKELEY           12            1      NaN   700\n",
      "4          NaN   203.0   BERKELEY            Y            3        2  1600\n",
      "5  100006000.0   207.0   BERKELEY            Y          NaN        1   800\n",
      "7  100008000.0   213.0    TREMONT            Y            1        1   NaN\n",
      "8  100009000.0   215.0    TREMONT            Y           na        2  1800\n"
     ]
    }
   ],
   "execution_count": 98
  },
  {
   "metadata": {
    "ExecuteTime": {
     "end_time": "2025-01-29T09:31:10.754142Z",
     "start_time": "2025-01-29T09:31:10.748352Z"
    }
   },
   "cell_type": "code",
   "source": [
    "import pandas as pd\n",
    "\n",
    "df = pd.read_csv('property-data.csv')\n",
    "\n",
    "df['PID'].fillna(12345, inplace = True)\n",
    "\n",
    "print(df.to_string())"
   ],
   "id": "8e80ea767ff831c4",
   "outputs": [
    {
     "name": "stdout",
     "output_type": "stream",
     "text": [
      "           PID  ST_NUM     ST_NAME OWN_OCCUPIED NUM_BEDROOMS NUM_BATH SQ_FT\n",
      "0  100001000.0   104.0      PUTNAM            Y            3        1  1000\n",
      "1  100002000.0   197.0   LEXINGTON            N            3      1.5    --\n",
      "2  100003000.0     NaN   LEXINGTON            N          NaN        1   850\n",
      "3  100004000.0   201.0    BERKELEY           12            1      NaN   700\n",
      "4      12345.0   203.0    BERKELEY            Y            3        2  1600\n",
      "5  100006000.0   207.0    BERKELEY            Y          NaN        1   800\n",
      "6  100007000.0     NaN  WASHINGTON          NaN            2   HURLEY   950\n",
      "7  100008000.0   213.0     TREMONT            Y            1        1   NaN\n",
      "8  100009000.0   215.0     TREMONT            Y           na        2  1800\n"
     ]
    },
    {
     "name": "stderr",
     "output_type": "stream",
     "text": [
      "C:\\Users\\Administrator\\AppData\\Local\\Temp\\ipykernel_25908\\3590396125.py:5: FutureWarning: A value is trying to be set on a copy of a DataFrame or Series through chained assignment using an inplace method.\n",
      "The behavior will change in pandas 3.0. This inplace method will never work because the intermediate object on which we are setting values always behaves as a copy.\n",
      "\n",
      "For example, when doing 'df[col].method(value, inplace=True)', try using 'df.method({col: value}, inplace=True)' or df[col] = df[col].method(value) instead, to perform the operation inplace on the original object.\n",
      "\n",
      "\n",
      "  df['PID'].fillna(12345, inplace = True)\n"
     ]
    }
   ],
   "execution_count": 99
  },
  {
   "metadata": {
    "ExecuteTime": {
     "end_time": "2025-01-29T09:34:30.689699Z",
     "start_time": "2025-01-29T09:34:30.681597Z"
    }
   },
   "cell_type": "code",
   "source": [
    "import pandas as pd\n",
    "\n",
    "df = pd.read_csv('property-data.csv')\n",
    "\n",
    "x = df[\"ST_NUM\"].median()\n",
    "\n",
    "df[\"ST_NUM\"].fillna(x, inplace = True)\n",
    "\n",
    "print(df.to_string())"
   ],
   "id": "e26939ab3e3dd099",
   "outputs": [
    {
     "name": "stdout",
     "output_type": "stream",
     "text": [
      "           PID  ST_NUM     ST_NAME OWN_OCCUPIED NUM_BEDROOMS NUM_BATH SQ_FT\n",
      "0  100001000.0   104.0      PUTNAM            Y            3        1  1000\n",
      "1  100002000.0   197.0   LEXINGTON            N            3      1.5    --\n",
      "2  100003000.0   203.0   LEXINGTON            N          NaN        1   850\n",
      "3  100004000.0   201.0    BERKELEY           12            1      NaN   700\n",
      "4          NaN   203.0    BERKELEY            Y            3        2  1600\n",
      "5  100006000.0   207.0    BERKELEY            Y          NaN        1   800\n",
      "6  100007000.0   203.0  WASHINGTON          NaN            2   HURLEY   950\n",
      "7  100008000.0   213.0     TREMONT            Y            1        1   NaN\n",
      "8  100009000.0   215.0     TREMONT            Y           na        2  1800\n"
     ]
    },
    {
     "name": "stderr",
     "output_type": "stream",
     "text": [
      "C:\\Users\\Administrator\\AppData\\Local\\Temp\\ipykernel_25908\\3669396141.py:7: FutureWarning: A value is trying to be set on a copy of a DataFrame or Series through chained assignment using an inplace method.\n",
      "The behavior will change in pandas 3.0. This inplace method will never work because the intermediate object on which we are setting values always behaves as a copy.\n",
      "\n",
      "For example, when doing 'df[col].method(value, inplace=True)', try using 'df.method({col: value}, inplace=True)' or df[col] = df[col].method(value) instead, to perform the operation inplace on the original object.\n",
      "\n",
      "\n",
      "  df[\"ST_NUM\"].fillna(x, inplace = True)\n"
     ]
    }
   ],
   "execution_count": 102
  },
  {
   "metadata": {
    "ExecuteTime": {
     "end_time": "2025-01-29T09:36:49.102361Z",
     "start_time": "2025-01-29T09:36:49.094938Z"
    }
   },
   "cell_type": "code",
   "source": [
    "import pandas as pd\n",
    "\n",
    "# 第三个日期格式错误\n",
    "data = {\n",
    "    \"Date\": ['2020/12/01', '2020/12/02' , '21201226'],\n",
    "    \"duration\": [50, 40, 45]\n",
    "}\n",
    "\n",
    "df = pd.DataFrame(data, index = [\"day1\", \"day2\", \"day3\"])\n",
    "\n",
    "df['Date'] = pd.to_datetime(df['Date'], format='mixed')\n",
    "\n",
    "print(df.to_string())"
   ],
   "id": "6f7f740e5af458b6",
   "outputs": [
    {
     "name": "stdout",
     "output_type": "stream",
     "text": [
      "           Date  duration\n",
      "day1 2020-12-01        50\n",
      "day2 2020-12-02        40\n",
      "day3 2120-12-26        45\n"
     ]
    }
   ],
   "execution_count": 111
  },
  {
   "metadata": {
    "ExecuteTime": {
     "end_time": "2025-01-29T09:43:35.043538Z",
     "start_time": "2025-01-29T09:43:35.036579Z"
    }
   },
   "cell_type": "code",
   "source": [
    "import pandas as pd\n",
    "\n",
    "person = {\n",
    "    \"name\": ['Google', 'Runoob' , 'Taobao'],\n",
    "    \"age\": [50, 200, 12345]\n",
    "}\n",
    "\n",
    "df = pd.DataFrame(person)\n",
    "\n",
    "df = df.loc[df['age'] <= 120]\n",
    "df = df.query(\"age <= 120\")\n",
    "df.drop(df.index[df['age'] > 120], inplace=True)\n",
    "print(df)"
   ],
   "id": "9b495be0bc75aa1a",
   "outputs": [
    {
     "name": "stdout",
     "output_type": "stream",
     "text": [
      "     name  age\n",
      "0  Google   50\n"
     ]
    }
   ],
   "execution_count": 118
  },
  {
   "metadata": {
    "ExecuteTime": {
     "end_time": "2025-01-29T09:44:21.385086Z",
     "start_time": "2025-01-29T09:44:21.378108Z"
    }
   },
   "cell_type": "code",
   "source": [
    "import pandas as pd\n",
    "\n",
    "persons = {\n",
    "    \"name\": ['Google', 'Runoob', 'Runoob', 'Taobao'],\n",
    "    \"age\": [50, 40, 40, 23]\n",
    "}\n",
    "\n",
    "df = pd.DataFrame(persons)\n",
    "\n",
    "df.drop_duplicates(inplace = True)\n",
    "print(df)"
   ],
   "id": "b0477885467edb02",
   "outputs": [
    {
     "name": "stdout",
     "output_type": "stream",
     "text": [
      "     name  age\n",
      "0  Google   50\n",
      "1  Runoob   40\n",
      "3  Taobao   23\n"
     ]
    }
   ],
   "execution_count": 120
  },
  {
   "metadata": {
    "ExecuteTime": {
     "end_time": "2025-01-29T09:44:22.737665Z",
     "start_time": "2025-01-29T09:44:22.731833Z"
    }
   },
   "cell_type": "code",
   "source": [
    "import pandas as pd\n",
    "\n",
    "# 示例数据\n",
    "data = {'Name': ['Alice', 'Bob', 'Charlie', None],\n",
    "        'Age': [25, 30, None, 35],\n",
    "        'City': ['New York', 'Los Angeles', 'Chicago', 'Houston']}\n",
    "\n",
    "df = pd.DataFrame(data)\n",
    "\n",
    "# 填充缺失的 \"Age\" 为均值\n",
    "df['Age'].fillna(df['Age'].mean(), inplace=True)\n",
    "\n",
    "print(df)"
   ],
   "id": "445ec7d155ca9c57",
   "outputs": [
    {
     "name": "stdout",
     "output_type": "stream",
     "text": [
      "      Name   Age         City\n",
      "0    Alice  25.0     New York\n",
      "1      Bob  30.0  Los Angeles\n",
      "2  Charlie  30.0      Chicago\n",
      "3     None  35.0      Houston\n"
     ]
    },
    {
     "name": "stderr",
     "output_type": "stream",
     "text": [
      "C:\\Users\\Administrator\\AppData\\Local\\Temp\\ipykernel_25908\\3637928352.py:11: FutureWarning: A value is trying to be set on a copy of a DataFrame or Series through chained assignment using an inplace method.\n",
      "The behavior will change in pandas 3.0. This inplace method will never work because the intermediate object on which we are setting values always behaves as a copy.\n",
      "\n",
      "For example, when doing 'df[col].method(value, inplace=True)', try using 'df.method({col: value}, inplace=True)' or df[col] = df[col].method(value) instead, to perform the operation inplace on the original object.\n",
      "\n",
      "\n",
      "  df['Age'].fillna(df['Age'].mean(), inplace=True)\n"
     ]
    }
   ],
   "execution_count": 121
  }
 ],
 "metadata": {
  "kernelspec": {
   "display_name": "Python 3",
   "language": "python",
   "name": "python3"
  },
  "language_info": {
   "codemirror_mode": {
    "name": "ipython",
    "version": 2
   },
   "file_extension": ".py",
   "mimetype": "text/x-python",
   "name": "python",
   "nbconvert_exporter": "python",
   "pygments_lexer": "ipython2",
   "version": "2.7.6"
  }
 },
 "nbformat": 4,
 "nbformat_minor": 5
}
