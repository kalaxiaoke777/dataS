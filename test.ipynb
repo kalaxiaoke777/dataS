{
 "cells": [
  {
   "cell_type": "code",
   "id": "initial_id",
   "metadata": {
    "collapsed": true,
    "ExecuteTime": {
     "end_time": "2024-12-18T12:11:50.436751Z",
     "start_time": "2024-12-18T12:11:50.327750Z"
    }
   },
   "source": [
    "import numpy as np\n",
    "a = np.array([[True,  False],  [3,  4]])\n",
    "print (a)\n"
   ],
   "outputs": [
    {
     "name": "stdout",
     "output_type": "stream",
     "text": [
      "[[1 0]\n",
      " [3 4]]\n"
     ]
    }
   ],
   "execution_count": 2
  },
  {
   "metadata": {
    "ExecuteTime": {
     "end_time": "2024-12-09T14:51:57.317802Z",
     "start_time": "2024-12-09T14:51:57.314988Z"
    }
   },
   "cell_type": "code",
   "source": [
    "import numpy as np\n",
    "x = np.empty([3,2], dtype = int)\n",
    "print (x)"
   ],
   "id": "9f6f616e7d21871a",
   "outputs": [],
   "execution_count": null
  },
  {
   "metadata": {
    "ExecuteTime": {
     "end_time": "2024-12-18T12:11:51.773144Z",
     "start_time": "2024-12-18T12:11:51.768891Z"
    }
   },
   "cell_type": "code",
   "source": [
    "a = np.arange(24)\n",
    "\n",
    "b = a.reshape(2,3,4)\n",
    "print(b)"
   ],
   "id": "412cd726f405b327",
   "outputs": [
    {
     "name": "stdout",
     "output_type": "stream",
     "text": [
      "[[[ 0  1  2  3]\n",
      "  [ 4  5  6  7]\n",
      "  [ 8  9 10 11]]\n",
      "\n",
      " [[12 13 14 15]\n",
      "  [16 17 18 19]\n",
      "  [20 21 22 23]]]\n"
     ]
    }
   ],
   "execution_count": 3
  },
  {
   "metadata": {
    "ExecuteTime": {
     "end_time": "2024-12-18T12:33:51.669046Z",
     "start_time": "2024-12-18T12:33:51.664466Z"
    }
   },
   "cell_type": "code",
   "source": [
    "import numpy as np\n",
    "\n",
    "# 创建一个 3x3 的二维数组\n",
    "arr = np.array([[1, 2, 3], [4, 5, 6], [7, 8, 9]])\n",
    "\n",
    "# 创建一个与 arr 形状相同的，所有元素都为 0 的数组\n",
    "zeros_arr = np.zeros_like(arr)\n",
    "print(zeros_arr)"
   ],
   "id": "369ee67903ce699d",
   "outputs": [
    {
     "name": "stdout",
     "output_type": "stream",
     "text": [
      "[[0 0 0]\n",
      " [0 0 0]\n",
      " [0 0 0]]\n"
     ]
    }
   ],
   "execution_count": 15
  },
  {
   "metadata": {
    "ExecuteTime": {
     "end_time": "2024-12-18T13:15:48.873915Z",
     "start_time": "2024-12-18T13:15:48.869131Z"
    }
   },
   "cell_type": "code",
   "source": [
    "import numpy as np\n",
    "\n",
    "a = np.array([4])\n",
    "b = np.array([[10,20,30,40],[50,60,70,80]])\n",
    "c = a * b\n",
    "print (c)"
   ],
   "id": "f7be409c1e300727",
   "outputs": [
    {
     "name": "stdout",
     "output_type": "stream",
     "text": [
      "[[ 40  80 120 160]\n",
      " [200 240 280 320]]\n"
     ]
    }
   ],
   "execution_count": 78
  },
  {
   "metadata": {
    "ExecuteTime": {
     "end_time": "2024-12-18T13:17:35.094705Z",
     "start_time": "2024-12-18T13:17:35.088541Z"
    }
   },
   "cell_type": "code",
   "source": [
    "import numpy as np\n",
    "\n",
    "a = np.arange(6).reshape(1,6)\n",
    "print ('原始数组是：')\n",
    "print (a)\n",
    "print ('\\n')\n",
    "print ('迭代输出元素：')\n",
    "for x in np.nditer(a):\n",
    "    print (x, end=\", \" )\n",
    "print ('\\n')"
   ],
   "id": "c1a5912208264e1e",
   "outputs": [
    {
     "name": "stdout",
     "output_type": "stream",
     "text": [
      "原始数组是：\n",
      "[[0 1 2 3 4 5]]\n",
      "\n",
      "\n",
      "迭代输出元素：\n",
      "0, 1, 2, 3, 4, 5, \n",
      "\n"
     ]
    }
   ],
   "execution_count": 83
  },
  {
   "metadata": {
    "ExecuteTime": {
     "end_time": "2024-12-18T13:18:09.795816Z",
     "start_time": "2024-12-18T13:18:09.789106Z"
    }
   },
   "cell_type": "code",
   "source": [
    "import numpy as np\n",
    "\n",
    "a = np.arange(0,60,5)\n",
    "a = a.reshape(3,4)\n",
    "print ('原始数组是：')\n",
    "print (a)\n",
    "print ('\\n')\n",
    "print ('原始数组的转置是：')\n",
    "b = a.T\n",
    "print (b)\n",
    "print ('\\n')\n",
    "print ('以 C 风格顺序排序：')\n",
    "c = b.copy(order='C')\n",
    "print (c)\n",
    "for x in np.nditer(c):\n",
    "    print (x, end=\", \" )\n",
    "print  ('\\n')\n",
    "print  ('以 F 风格顺序排序：')\n",
    "c = b.copy(order='F')\n",
    "print (c)\n",
    "for x in np.nditer(c):\n",
    "    print (x, end=\", \" )"
   ],
   "id": "ca2d5b933bc7352",
   "outputs": [
    {
     "name": "stdout",
     "output_type": "stream",
     "text": [
      "原始数组是：\n",
      "[[ 0  5 10 15]\n",
      " [20 25 30 35]\n",
      " [40 45 50 55]]\n",
      "\n",
      "\n",
      "原始数组的转置是：\n",
      "[[ 0 20 40]\n",
      " [ 5 25 45]\n",
      " [10 30 50]\n",
      " [15 35 55]]\n",
      "\n",
      "\n",
      "以 C 风格顺序排序：\n",
      "[[ 0 20 40]\n",
      " [ 5 25 45]\n",
      " [10 30 50]\n",
      " [15 35 55]]\n",
      "0, 20, 40, 5, 25, 45, 10, 30, 50, 15, 35, 55, \n",
      "\n",
      "以 F 风格顺序排序：\n",
      "[[ 0 20 40]\n",
      " [ 5 25 45]\n",
      " [10 30 50]\n",
      " [15 35 55]]\n",
      "0, 5, 10, 15, 20, 25, 30, 35, 40, 45, 50, 55, "
     ]
    }
   ],
   "execution_count": 84
  },
  {
   "metadata": {
    "ExecuteTime": {
     "end_time": "2024-12-18T13:19:36.878055Z",
     "start_time": "2024-12-18T13:19:36.871858Z"
    }
   },
   "cell_type": "code",
   "source": [
    "import numpy as np\n",
    "\n",
    "a = np.arange(0,60,5)\n",
    "a = a.reshape(3,4)\n",
    "print ('原始数组是：')\n",
    "print (a)\n",
    "print ('\\n')\n",
    "for x in np.nditer(a, op_flags=['readwrite']):\n",
    "    x[...]=2\n",
    "print ('修改后的数组是：')\n",
    "print (a)"
   ],
   "id": "13de60bb2eded89",
   "outputs": [
    {
     "name": "stdout",
     "output_type": "stream",
     "text": [
      "原始数组是：\n",
      "[[ 0  5 10 15]\n",
      " [20 25 30 35]\n",
      " [40 45 50 55]]\n",
      "\n",
      "\n",
      "修改后的数组是：\n",
      "[[2 2 2 2]\n",
      " [2 2 2 2]\n",
      " [2 2 2 2]]\n"
     ]
    }
   ],
   "execution_count": 89
  },
  {
   "metadata": {
    "ExecuteTime": {
     "end_time": "2024-12-18T13:28:16.693124Z",
     "start_time": "2024-12-18T13:28:16.688327Z"
    }
   },
   "cell_type": "code",
   "source": "",
   "id": "631de1516a6af94b",
   "outputs": [
    {
     "name": "stdout",
     "output_type": "stream",
     "text": [
      "[[0 1 2]\n",
      " [3 4 5]\n",
      " [6 7 8]]\n",
      "[[0 3 6]\n",
      " [1 4 7]\n",
      " [2 5 8]]\n",
      "[[0 3 6]\n",
      " [1 4 7]\n",
      " [2 5 8]]\n"
     ]
    }
   ],
   "execution_count": 100
  }
 ],
 "metadata": {
  "kernelspec": {
   "display_name": "Python 3",
   "language": "python",
   "name": "python3"
  },
  "language_info": {
   "codemirror_mode": {
    "name": "ipython",
    "version": 2
   },
   "file_extension": ".py",
   "mimetype": "text/x-python",
   "name": "python",
   "nbconvert_exporter": "python",
   "pygments_lexer": "ipython2",
   "version": "2.7.6"
  }
 },
 "nbformat": 4,
 "nbformat_minor": 5
}
