{
 "cells": [
  {
   "cell_type": "code",
   "id": "initial_id",
   "metadata": {
    "collapsed": true,
    "ExecuteTime": {
     "end_time": "2025-01-09T09:36:36.264174Z",
     "start_time": "2025-01-09T09:36:36.252002Z"
    }
   },
   "source": [
    "import numpy as np\n",
    "np1 = np.arange(100,150,2)\n",
    "random_array = np.random.randint(0,100,(3, 3))\n",
    "print(random_array)"
   ],
   "outputs": [
    {
     "name": "stdout",
     "output_type": "stream",
     "text": [
      "[[90  6 84]\n",
      " [72 94 27]\n",
      " [62 88 14]]\n"
     ]
    }
   ],
   "execution_count": 12
  },
  {
   "metadata": {
    "ExecuteTime": {
     "end_time": "2025-01-09T09:36:52.064691Z",
     "start_time": "2025-01-09T09:36:52.045485Z"
    }
   },
   "cell_type": "code",
   "source": "random_array",
   "id": "81d2d2a8456c1278",
   "outputs": [
    {
     "data": {
      "text/plain": [
       "array([[90,  6, 84],\n",
       "       [72, 94, 27],\n",
       "       [62, 88, 14]])"
      ]
     },
     "execution_count": 15,
     "metadata": {},
     "output_type": "execute_result"
    }
   ],
   "execution_count": 15
  },
  {
   "metadata": {
    "ExecuteTime": {
     "end_time": "2025-01-09T09:42:15.753831Z",
     "start_time": "2025-01-09T09:42:15.731139Z"
    }
   },
   "cell_type": "code",
   "source": [
    "new = np.concatenate((random_array,random_array,random_array), axis=1)\n",
    "print(new)"
   ],
   "id": "af8fe018359a9f12",
   "outputs": [
    {
     "name": "stdout",
     "output_type": "stream",
     "text": [
      "[[90  6 84 90  6 84 90  6 84]\n",
      " [72 94 27 72 94 27 72 94 27]\n",
      " [62 88 14 62 88 14 62 88 14]]\n"
     ]
    }
   ],
   "execution_count": 25
  },
  {
   "metadata": {
    "ExecuteTime": {
     "end_time": "2025-01-09T09:55:00.398441Z",
     "start_time": "2025-01-09T09:55:00.387999Z"
    }
   },
   "cell_type": "code",
   "source": [
    "print(np.transpose(new))\n",
    "print(new.T.mean(axis=0))"
   ],
   "id": "b71061043f7d538b",
   "outputs": [
    {
     "name": "stdout",
     "output_type": "stream",
     "text": [
      "[[90 72 62]\n",
      " [ 6 94 88]\n",
      " [84 27 14]\n",
      " [90 72 62]\n",
      " [ 6 94 88]\n",
      " [84 27 14]\n",
      " [90 72 62]\n",
      " [ 6 94 88]\n",
      " [84 27 14]]\n",
      "[60.         64.33333333 54.66666667]\n"
     ]
    }
   ],
   "execution_count": 44
  },
  {
   "metadata": {
    "ExecuteTime": {
     "end_time": "2025-01-09T09:56:34.154139Z",
     "start_time": "2025-01-09T09:56:34.143490Z"
    }
   },
   "cell_type": "code",
   "source": "str_np = np.array([[\"13\",\"你妈的\",\"1的\"],[\"阀门\",\"s是否\",\"啊是否能\"]])",
   "id": "f17a86f49c087f59",
   "outputs": [],
   "execution_count": 48
  },
  {
   "metadata": {
    "ExecuteTime": {
     "end_time": "2025-01-09T09:56:40.627184Z",
     "start_time": "2025-01-09T09:56:40.619126Z"
    }
   },
   "cell_type": "code",
   "source": "str_np",
   "id": "19c98ce63973fa45",
   "outputs": [
    {
     "data": {
      "text/plain": [
       "array([['13', '你妈的', '1的'],\n",
       "       ['阀门', 's是否', '啊是否能']], dtype='<U4')"
      ]
     },
     "execution_count": 50,
     "metadata": {},
     "output_type": "execute_result"
    }
   ],
   "execution_count": 50
  },
  {
   "metadata": {
    "ExecuteTime": {
     "end_time": "2025-01-17T03:53:08.884761Z",
     "start_time": "2025-01-17T03:53:08.871995Z"
    }
   },
   "cell_type": "code",
   "source": [
    "import numpy as np\n",
    "\n",
    "print ('连接两个字符串：')\n",
    "print (np.char.add(['hello'],[' xyz']))\n",
    "print ('\\n')\n",
    "\n",
    "print ('连接示例：')\n",
    "print (np.char.add(['hello', 'hi'],[' abc', ' xyz']))\n",
    "\n",
    "\n",
    "print (np.char.center('Runoob', 13,fillchar = '3'))\n",
    "\n",
    "print (np.char.capitalize('runoob'))"
   ],
   "id": "99930ff97bb3076a",
   "outputs": [
    {
     "name": "stdout",
     "output_type": "stream",
     "text": [
      "连接两个字符串：\n",
      "['hello xyz']\n",
      "\n",
      "\n",
      "连接示例：\n",
      "['hello abc' 'hi xyz']\n",
      "3333Runoob333\n",
      "Runoob\n"
     ]
    }
   ],
   "execution_count": 13
  },
  {
   "metadata": {
    "ExecuteTime": {
     "end_time": "2025-01-17T03:55:04.820039Z",
     "start_time": "2025-01-17T03:55:04.798055Z"
    }
   },
   "cell_type": "code",
   "source": "print (np.char.lower(['RUNOOB','GOOGLE']))",
   "id": "dc351deffacb579f",
   "outputs": [
    {
     "name": "stdout",
     "output_type": "stream",
     "text": [
      "['runoob' 'google']\n"
     ]
    }
   ],
   "execution_count": 18
  },
  {
   "metadata": {
    "ExecuteTime": {
     "end_time": "2025-01-17T03:57:44.911693Z",
     "start_time": "2025-01-17T03:57:44.901931Z"
    }
   },
   "cell_type": "code",
   "source": "print (np.char.split ('www.runoob.com', sep = 'w'))",
   "id": "bad3b60281d62813",
   "outputs": [
    {
     "name": "stdout",
     "output_type": "stream",
     "text": [
      "['', '', '', '.runoob.com']\n"
     ]
    }
   ],
   "execution_count": 22
  },
  {
   "metadata": {
    "ExecuteTime": {
     "end_time": "2025-01-17T03:59:40.103960Z",
     "start_time": "2025-01-17T03:59:40.084668Z"
    }
   },
   "cell_type": "code",
   "source": [
    "import numpy as np\n",
    "\n",
    "a = np.array([0,30,45,60,90])\n",
    "print ('不同角度的正弦值：')\n",
    "# 通过乘 pi/180 转化为弧度\n",
    "print (np.sin(a*np.pi/180))\n",
    "print ('\\n')\n",
    "print ('数组中角度的余弦值：')\n",
    "print (np.cos(a*np.pi/180))\n",
    "print ('\\n')\n",
    "print ('数组中角度的正切值：')\n",
    "print (np.tan(a*np.pi/180))\n",
    "\n",
    "print(np.sin(60))"
   ],
   "id": "9ad9ebb6171f47d8",
   "outputs": [
    {
     "name": "stdout",
     "output_type": "stream",
     "text": [
      "不同角度的正弦值：\n",
      "[0.         0.5        0.70710678 0.8660254  1.        ]\n",
      "\n",
      "\n",
      "数组中角度的余弦值：\n",
      "[1.00000000e+00 8.66025404e-01 7.07106781e-01 5.00000000e-01\n",
      " 6.12323400e-17]\n",
      "\n",
      "\n",
      "数组中角度的正切值：\n",
      "[0.00000000e+00 5.77350269e-01 1.00000000e+00 1.73205081e+00\n",
      " 1.63312394e+16]\n",
      "-0.3048106211022167\n"
     ]
    }
   ],
   "execution_count": 25
  },
  {
   "metadata": {
    "ExecuteTime": {
     "end_time": "2025-01-17T04:00:43.001559Z",
     "start_time": "2025-01-17T04:00:42.982394Z"
    }
   },
   "cell_type": "code",
   "source": [
    "import numpy as np\n",
    "\n",
    "a = np.array([0,30,45,60,90])\n",
    "print ('含有正弦值的数组：')\n",
    "sin = np.sin(a*np.pi/180)\n",
    "print (sin)\n",
    "print ('\\n')\n",
    "print ('计算角度的反正弦，返回值以弧度为单位：')\n",
    "inv = np.arcsin(sin)\n",
    "print (inv)\n",
    "print ('\\n')\n",
    "print ('通过转化为角度制来检查结果：')\n",
    "print (np.degrees(inv))\n",
    "print ('\\n')\n",
    "print ('arccos 和 arctan 函数行为类似：')\n",
    "cos = np.cos(a*np.pi/180)\n",
    "print (cos)\n",
    "print ('\\n')\n",
    "print ('反余弦：')\n",
    "inv = np.arccos(cos)\n",
    "print (inv)\n",
    "print ('\\n')\n",
    "print ('角度制单位：')\n",
    "print (np.degrees(inv))\n",
    "print ('\\n')\n",
    "print ('tan 函数：')\n",
    "tan = np.tan(a*np.pi/180)\n",
    "print (tan)\n",
    "print ('\\n')\n",
    "print ('反正切：')\n",
    "inv = np.arctan(tan)\n",
    "print (inv)\n",
    "print ('\\n')\n",
    "print ('角度制单位：')\n",
    "print (np.degrees(inv))"
   ],
   "id": "8773488e76740ff2",
   "outputs": [
    {
     "name": "stdout",
     "output_type": "stream",
     "text": [
      "含有正弦值的数组：\n",
      "[0.         0.5        0.70710678 0.8660254  1.        ]\n",
      "\n",
      "\n",
      "计算角度的反正弦，返回值以弧度为单位：\n",
      "[0.         0.52359878 0.78539816 1.04719755 1.57079633]\n",
      "\n",
      "\n",
      "通过转化为角度制来检查结果：\n",
      "[ 0. 30. 45. 60. 90.]\n",
      "\n",
      "\n",
      "arccos 和 arctan 函数行为类似：\n",
      "[1.00000000e+00 8.66025404e-01 7.07106781e-01 5.00000000e-01\n",
      " 6.12323400e-17]\n",
      "\n",
      "\n",
      "反余弦：\n",
      "[0.         0.52359878 0.78539816 1.04719755 1.57079633]\n",
      "\n",
      "\n",
      "角度制单位：\n",
      "[ 0. 30. 45. 60. 90.]\n",
      "\n",
      "\n",
      "tan 函数：\n",
      "[0.00000000e+00 5.77350269e-01 1.00000000e+00 1.73205081e+00\n",
      " 1.63312394e+16]\n",
      "\n",
      "\n",
      "反正切：\n",
      "[0.         0.52359878 0.78539816 1.04719755 1.57079633]\n",
      "\n",
      "\n",
      "角度制单位：\n",
      "[ 0. 30. 45. 60. 90.]\n"
     ]
    }
   ],
   "execution_count": 28
  },
  {
   "metadata": {
    "ExecuteTime": {
     "end_time": "2025-01-17T04:00:45.763097Z",
     "start_time": "2025-01-17T04:00:45.752879Z"
    }
   },
   "cell_type": "code",
   "source": [
    "import numpy as np\n",
    "\n",
    "a = np.array([1.0,5.55,  123,  0.567,  25.532])\n",
    "print  ('原数组：')\n",
    "print (a)\n",
    "print ('\\n')\n",
    "print ('舍入后：')\n",
    "print (np.around(a))\n",
    "print (np.around(a, decimals =  1))\n",
    "print (np.around(a, decimals =  -1))"
   ],
   "id": "708941592c5f60c",
   "outputs": [
    {
     "name": "stdout",
     "output_type": "stream",
     "text": [
      "原数组：\n",
      "[  1.      5.55  123.      0.567  25.532]\n",
      "\n",
      "\n",
      "舍入后：\n",
      "[  1.   6. 123.   1.  26.]\n",
      "[  1.    5.6 123.    0.6  25.5]\n",
      "[  0.  10. 120.   0.  30.]\n"
     ]
    }
   ],
   "execution_count": 29
  }
 ],
 "metadata": {
  "kernelspec": {
   "display_name": "Python 3",
   "language": "python",
   "name": "python3"
  },
  "language_info": {
   "codemirror_mode": {
    "name": "ipython",
    "version": 2
   },
   "file_extension": ".py",
   "mimetype": "text/x-python",
   "name": "python",
   "nbconvert_exporter": "python",
   "pygments_lexer": "ipython2",
   "version": "2.7.6"
  }
 },
 "nbformat": 4,
 "nbformat_minor": 5
}
